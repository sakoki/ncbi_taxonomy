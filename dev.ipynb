{
 "cells": [
  {
   "cell_type": "markdown",
   "metadata": {},
   "source": [
    "# Dev notebook"
   ]
  },
  {
   "cell_type": "code",
   "execution_count": 1,
   "metadata": {},
   "outputs": [],
   "source": [
    "from ncbi_taxonomy import taxonomy"
   ]
  },
  {
   "cell_type": "code",
   "execution_count": 2,
   "metadata": {},
   "outputs": [],
   "source": [
    "session = taxonomy.NCBI_Taxonomy(\"./data/taxdump/\")\n",
    "session.load_taxonomy_data()"
   ]
  },
  {
   "cell_type": "code",
   "execution_count": 5,
   "metadata": {},
   "outputs": [
    {
     "data": {
      "text/html": [
       "<div>\n",
       "<style scoped>\n",
       "    .dataframe tbody tr th:only-of-type {\n",
       "        vertical-align: middle;\n",
       "    }\n",
       "\n",
       "    .dataframe tbody tr th {\n",
       "        vertical-align: top;\n",
       "    }\n",
       "\n",
       "    .dataframe thead th {\n",
       "        text-align: right;\n",
       "    }\n",
       "</style>\n",
       "<table border=\"1\" class=\"dataframe\">\n",
       "  <thead>\n",
       "    <tr style=\"text-align: right;\">\n",
       "      <th></th>\n",
       "      <th>tax_id</th>\n",
       "      <th>name_txt</th>\n",
       "      <th>unique_name</th>\n",
       "      <th>name_class</th>\n",
       "    </tr>\n",
       "  </thead>\n",
       "  <tbody>\n",
       "    <tr>\n",
       "      <th>0</th>\n",
       "      <td>1</td>\n",
       "      <td>all</td>\n",
       "      <td></td>\n",
       "      <td>synonym</td>\n",
       "    </tr>\n",
       "    <tr>\n",
       "      <th>1</th>\n",
       "      <td>1</td>\n",
       "      <td>root</td>\n",
       "      <td></td>\n",
       "      <td>scientific name</td>\n",
       "    </tr>\n",
       "    <tr>\n",
       "      <th>2</th>\n",
       "      <td>2</td>\n",
       "      <td>Bacteria</td>\n",
       "      <td>Bacteria &lt;bacteria&gt;</td>\n",
       "      <td>scientific name</td>\n",
       "    </tr>\n",
       "  </tbody>\n",
       "</table>\n",
       "</div>"
      ],
      "text/plain": [
       "   tax_id  name_txt          unique_name       name_class\n",
       "0       1       all                               synonym\n",
       "1       1      root                       scientific name\n",
       "2       2  Bacteria  Bacteria <bacteria>  scientific name"
      ]
     },
     "execution_count": 5,
     "metadata": {},
     "output_type": "execute_result"
    }
   ],
   "source": [
    "session.names.head(3)"
   ]
  },
  {
   "cell_type": "code",
   "execution_count": 6,
   "metadata": {},
   "outputs": [
    {
     "data": {
      "text/html": [
       "<div>\n",
       "<style scoped>\n",
       "    .dataframe tbody tr th:only-of-type {\n",
       "        vertical-align: middle;\n",
       "    }\n",
       "\n",
       "    .dataframe tbody tr th {\n",
       "        vertical-align: top;\n",
       "    }\n",
       "\n",
       "    .dataframe thead th {\n",
       "        text-align: right;\n",
       "    }\n",
       "</style>\n",
       "<table border=\"1\" class=\"dataframe\">\n",
       "  <thead>\n",
       "    <tr style=\"text-align: right;\">\n",
       "      <th></th>\n",
       "      <th>parent_tax_id</th>\n",
       "      <th>rank</th>\n",
       "      <th>embl_code</th>\n",
       "      <th>division_id</th>\n",
       "      <th>inherited_div_flag</th>\n",
       "      <th>genetic_code_id</th>\n",
       "      <th>inherited_GC_flag</th>\n",
       "      <th>mitochondrial_genetic_code_id</th>\n",
       "      <th>inherited_MGC_flag</th>\n",
       "      <th>GenBank_hidden_flag</th>\n",
       "      <th>hidden_subtree_root_flag</th>\n",
       "      <th>comments</th>\n",
       "    </tr>\n",
       "    <tr>\n",
       "      <th>tax_id</th>\n",
       "      <th></th>\n",
       "      <th></th>\n",
       "      <th></th>\n",
       "      <th></th>\n",
       "      <th></th>\n",
       "      <th></th>\n",
       "      <th></th>\n",
       "      <th></th>\n",
       "      <th></th>\n",
       "      <th></th>\n",
       "      <th></th>\n",
       "      <th></th>\n",
       "    </tr>\n",
       "  </thead>\n",
       "  <tbody>\n",
       "    <tr>\n",
       "      <th>1</th>\n",
       "      <td>1</td>\n",
       "      <td>no rank</td>\n",
       "      <td></td>\n",
       "      <td>8</td>\n",
       "      <td>0</td>\n",
       "      <td>1</td>\n",
       "      <td>0</td>\n",
       "      <td>0</td>\n",
       "      <td>0</td>\n",
       "      <td>0</td>\n",
       "      <td>0</td>\n",
       "      <td></td>\n",
       "    </tr>\n",
       "    <tr>\n",
       "      <th>2</th>\n",
       "      <td>131567</td>\n",
       "      <td>superkingdom</td>\n",
       "      <td></td>\n",
       "      <td>0</td>\n",
       "      <td>0</td>\n",
       "      <td>11</td>\n",
       "      <td>0</td>\n",
       "      <td>0</td>\n",
       "      <td>0</td>\n",
       "      <td>0</td>\n",
       "      <td>0</td>\n",
       "      <td></td>\n",
       "    </tr>\n",
       "    <tr>\n",
       "      <th>6</th>\n",
       "      <td>335928</td>\n",
       "      <td>genus</td>\n",
       "      <td></td>\n",
       "      <td>0</td>\n",
       "      <td>1</td>\n",
       "      <td>11</td>\n",
       "      <td>1</td>\n",
       "      <td>0</td>\n",
       "      <td>1</td>\n",
       "      <td>0</td>\n",
       "      <td>0</td>\n",
       "      <td></td>\n",
       "    </tr>\n",
       "  </tbody>\n",
       "</table>\n",
       "</div>"
      ],
      "text/plain": [
       "        parent_tax_id          rank embl_code  division_id  \\\n",
       "tax_id                                                       \n",
       "1                   1       no rank                      8   \n",
       "2              131567  superkingdom                      0   \n",
       "6              335928         genus                      0   \n",
       "\n",
       "        inherited_div_flag  genetic_code_id  inherited_GC_flag  \\\n",
       "tax_id                                                           \n",
       "1                        0                1                  0   \n",
       "2                        0               11                  0   \n",
       "6                        1               11                  1   \n",
       "\n",
       "        mitochondrial_genetic_code_id  inherited_MGC_flag  \\\n",
       "tax_id                                                      \n",
       "1                                   0                   0   \n",
       "2                                   0                   0   \n",
       "6                                   0                   1   \n",
       "\n",
       "        GenBank_hidden_flag  hidden_subtree_root_flag comments  \n",
       "tax_id                                                          \n",
       "1                         0                         0           \n",
       "2                         0                         0           \n",
       "6                         0                         0           "
      ]
     },
     "execution_count": 6,
     "metadata": {},
     "output_type": "execute_result"
    }
   ],
   "source": [
    "session.nodes.head(3)"
   ]
  },
  {
   "cell_type": "markdown",
   "metadata": {},
   "source": [
    "### 1. get_tax_id() --> get tax_id from name"
   ]
  },
  {
   "cell_type": "code",
   "execution_count": 5,
   "metadata": {},
   "outputs": [
    {
     "name": "stdout",
     "output_type": "stream",
     "text": [
      "1335626\n",
      "694009\n"
     ]
    }
   ],
   "source": [
    "for i in (\"MERS\", \"SARS\"):\n",
    "    print(session.get_tax_id(i))"
   ]
  },
  {
   "cell_type": "code",
   "execution_count": 6,
   "metadata": {},
   "outputs": [
    {
     "name": "stdin",
     "output_type": "stream",
     "text": [
      "Multiple matches to query found:\n",
      "     tax_id         name_txt                    unique_name name_class\n",
      "598     137  Treponemataceae  Treponemataceae <spirochetes>    in-part\n",
      "807     170  Treponemataceae     Treponemataceae <bacteria>    in-part\n",
      "Please select tax_id:  137\n"
     ]
    },
    {
     "data": {
      "text/plain": [
       "137"
      ]
     },
     "execution_count": 6,
     "metadata": {},
     "output_type": "execute_result"
    }
   ],
   "source": [
    "# Handle duplicates by prompting user for input\n",
    "session.get_tax_id(\"Treponemataceae\")"
   ]
  },
  {
   "cell_type": "code",
   "execution_count": 7,
   "metadata": {},
   "outputs": [
    {
     "ename": "IndexError",
     "evalue": "Invalid name - not found or possible typo",
     "output_type": "error",
     "traceback": [
      "\u001b[0;31m---------------------------------------------------------------------------\u001b[0m",
      "\u001b[0;31mIndexError\u001b[0m                                Traceback (most recent call last)",
      "\u001b[0;32m<ipython-input-7-e18afe72e3e9>\u001b[0m in \u001b[0;36m<module>\u001b[0;34m\u001b[0m\n\u001b[0;32m----> 1\u001b[0;31m \u001b[0msession\u001b[0m\u001b[0;34m.\u001b[0m\u001b[0mget_tax_id\u001b[0m\u001b[0;34m(\u001b[0m\u001b[0;34m\"Apple\"\u001b[0m\u001b[0;34m)\u001b[0m  \u001b[0;31m# Raise IndexError\u001b[0m\u001b[0;34m\u001b[0m\u001b[0;34m\u001b[0m\u001b[0m\n\u001b[0m",
      "\u001b[0;32m~/ncbi_taxonomy/ncbi_taxonomy/taxonomy.py\u001b[0m in \u001b[0;36mget_tax_id\u001b[0;34m(self, name)\u001b[0m\n\u001b[1;32m     54\u001b[0m             \u001b[0;32mreturn\u001b[0m \u001b[0mhits\u001b[0m\u001b[0;34m.\u001b[0m\u001b[0mtax_id\u001b[0m\u001b[0;34m.\u001b[0m\u001b[0mvalues\u001b[0m\u001b[0;34m[\u001b[0m\u001b[0;36m0\u001b[0m\u001b[0;34m]\u001b[0m\u001b[0;34m\u001b[0m\u001b[0;34m\u001b[0m\u001b[0m\n\u001b[1;32m     55\u001b[0m         \u001b[0;32melse\u001b[0m\u001b[0;34m:\u001b[0m\u001b[0;34m\u001b[0m\u001b[0;34m\u001b[0m\u001b[0m\n\u001b[0;32m---> 56\u001b[0;31m             \u001b[0;32mraise\u001b[0m \u001b[0mIndexError\u001b[0m\u001b[0;34m(\u001b[0m\u001b[0;34m\"Invalid name - not found or possible typo\"\u001b[0m\u001b[0;34m)\u001b[0m\u001b[0;34m\u001b[0m\u001b[0;34m\u001b[0m\u001b[0m\n\u001b[0m\u001b[1;32m     57\u001b[0m \u001b[0;34m\u001b[0m\u001b[0m\n\u001b[1;32m     58\u001b[0m     \u001b[0;32mdef\u001b[0m \u001b[0mget_name_txt\u001b[0m\u001b[0;34m(\u001b[0m\u001b[0mself\u001b[0m\u001b[0;34m,\u001b[0m \u001b[0mtax_id\u001b[0m\u001b[0;34m,\u001b[0m \u001b[0mname_class\u001b[0m\u001b[0;34m)\u001b[0m\u001b[0;34m:\u001b[0m\u001b[0;34m\u001b[0m\u001b[0;34m\u001b[0m\u001b[0m\n",
      "\u001b[0;31mIndexError\u001b[0m: Invalid name - not found or possible typo"
     ]
    }
   ],
   "source": [
    "session.get_tax_id(\"Apple\")  # Raise IndexError "
   ]
  },
  {
   "cell_type": "markdown",
   "metadata": {},
   "source": [
    "### 2. Create node object with TaxonomyNode class"
   ]
  },
  {
   "cell_type": "code",
   "execution_count": 8,
   "metadata": {},
   "outputs": [
    {
     "name": "stdout",
     "output_type": "stream",
     "text": [
      "[TaxonomyNode(1335626), TaxonomyNode(694009)]\n"
     ]
    }
   ],
   "source": [
    "nodes = []\n",
    "for i in (\"MERS\", \"SARS\"):\n",
    "    nodes.append(taxonomy.TaxonomyNode(session.get_tax_id(i)))\n",
    "\n",
    "print(nodes)"
   ]
  },
  {
   "cell_type": "markdown",
   "metadata": {},
   "source": [
    "### 3. get_name_txt() --> Get name_txt corresponding to tax_id"
   ]
  },
  {
   "cell_type": "code",
   "execution_count": 11,
   "metadata": {},
   "outputs": [
    {
     "name": "stdout",
     "output_type": "stream",
     "text": [
      "Middle East respiratory syndrome-related coronavirus\n",
      "MERS\n"
     ]
    }
   ],
   "source": [
    "print(session.get_name_txt(nodes[0].tax_id, name_class=\"scientific name\"))\n",
    "print(session.get_name_txt(nodes[0].tax_id, name_class=\"acronym\"))"
   ]
  },
  {
   "cell_type": "markdown",
   "metadata": {},
   "source": [
    "### 4. get_node_info() --> get associated information for node"
   ]
  },
  {
   "cell_type": "code",
   "execution_count": 12,
   "metadata": {},
   "outputs": [],
   "source": [
    "for i in range(len(nodes)):\n",
    "    session.get_node_info(nodes[i])"
   ]
  },
  {
   "cell_type": "code",
   "execution_count": 13,
   "metadata": {},
   "outputs": [
    {
     "name": "stdout",
     "output_type": "stream",
     "text": [
      "tax_id: 1335626\n",
      "rank: species\n",
      "name_txt: Middle East respiratory syndrome-related coronavirus\n",
      "parent_txt_id: 2509494\n"
     ]
    }
   ],
   "source": [
    "print(nodes[0])"
   ]
  },
  {
   "cell_type": "code",
   "execution_count": 14,
   "metadata": {},
   "outputs": [
    {
     "name": "stdout",
     "output_type": "stream",
     "text": [
      "tax_id: 694009\n",
      "rank: species\n",
      "name_txt: Severe acute respiratory syndrome-related coronavirus\n",
      "parent_txt_id: 2509511\n"
     ]
    }
   ],
   "source": [
    "print(nodes[1])"
   ]
  },
  {
   "cell_type": "markdown",
   "metadata": {},
   "source": [
    "### 5. create_node_objects() --> accept list of names and generate node objects"
   ]
  },
  {
   "cell_type": "code",
   "execution_count": 7,
   "metadata": {},
   "outputs": [
    {
     "name": "stdout",
     "output_type": "stream",
     "text": [
      "tax_id: 1335626\n",
      "rank: species\n",
      "name_txt: Middle East respiratory syndrome-related coronavirus\n",
      "parent_txt_id: 2509494\n",
      "tax_id: 694009\n",
      "rank: species\n",
      "name_txt: Severe acute respiratory syndrome-related coronavirus\n",
      "parent_txt_id: 2509511\n"
     ]
    }
   ],
   "source": [
    "nodes = session.create_node_objects([\"MERS\", \"SARS\"])  # Input names\n",
    "print(nodes[0])\n",
    "print(nodes[1])"
   ]
  },
  {
   "cell_type": "code",
   "execution_count": 12,
   "metadata": {},
   "outputs": [
    {
     "name": "stdout",
     "output_type": "stream",
     "text": [
      "tax_id: 1335626\n",
      "rank: species\n",
      "name_txt: Middle East respiratory syndrome-related coronavirus\n",
      "parent_txt_id: 2509494\n",
      "tax_id: 694009\n",
      "rank: species\n",
      "name_txt: Severe acute respiratory syndrome-related coronavirus\n",
      "parent_txt_id: 2509511\n",
      "tax_id: 2509511\n",
      "rank: subgenus\n",
      "name_txt: Sarbecovirus\n",
      "parent_txt_id: 694002\n"
     ]
    }
   ],
   "source": [
    "nodes = session.create_node_objects([1335626, 694009, 2509511], from_tax_id=True)  # Input tax_id\n",
    "print(nodes[0])\n",
    "print(nodes[1])\n",
    "print(nodes[2])"
   ]
  },
  {
   "cell_type": "markdown",
   "metadata": {},
   "source": [
    "### 6. get_LCA() --> get lowest common ancestor of select nodes"
   ]
  },
  {
   "cell_type": "code",
   "execution_count": 13,
   "metadata": {},
   "outputs": [
    {
     "name": "stdout",
     "output_type": "stream",
     "text": [
      "tax_id: 694002\n",
      "rank: genus\n",
      "name_txt: Betacoronavirus\n",
      "parent_txt_id: 2501931\n"
     ]
    }
   ],
   "source": [
    "lca = session.get_LCA(node_list=nodes)\n",
    "print(lca)"
   ]
  },
  {
   "cell_type": "code",
   "execution_count": null,
   "metadata": {},
   "outputs": [],
   "source": []
  }
 ],
 "metadata": {
  "kernelspec": {
   "display_name": "Python 3",
   "language": "python",
   "name": "python3"
  },
  "language_info": {
   "codemirror_mode": {
    "name": "ipython",
    "version": 3
   },
   "file_extension": ".py",
   "mimetype": "text/x-python",
   "name": "python",
   "nbconvert_exporter": "python",
   "pygments_lexer": "ipython3",
   "version": "3.7.7"
  }
 },
 "nbformat": 4,
 "nbformat_minor": 4
}
