{
 "cells": [
  {
   "cell_type": "code",
   "execution_count": 46,
   "metadata": {},
   "outputs": [],
   "source": [
    "import re  # python regular expression\n",
    "import pandas as pd  # scientific dataframe\n",
    "import matplotlib.pyplot as plt\n",
    "from utils.IO import read_node_dmp, read_names"
   ]
  },
  {
   "cell_type": "code",
   "execution_count": 47,
   "metadata": {},
   "outputs": [],
   "source": [
    "nodes = read_nodes_dmp(fname='./taxdump/nodes.dmp')\n",
    "names = read_names_dmp(fname='./taxdump/names.dmp')"
   ]
  },
  {
   "cell_type": "markdown",
   "metadata": {},
   "source": [
    "### nodes.dmp file"
   ]
  },
  {
   "cell_type": "markdown",
   "metadata": {},
   "source": [
    "_ | title | description\n",
    ":------|:------|:------------\n",
    "1 | tax_id | node id in GenBank taxonomy database\n",
    "2 | parent tax_id | parent node id in GenBank taxonomy database\n",
    "3 | rank | rank of this node (superkingdom, kingdom, ...) \n",
    "4 | embl code | locus-name prefix; not unique\n",
    "5 | division id | see division.dmp file\n",
    "6 | inherited div flag  (1 or 0) | 1 if node inherits division from parent\n",
    "7 | genetic code id | see gencode.dmp file\n",
    "8 | inherited GC  flag  (1 or 0) | 1 if node inherits genetic code from parent\n",
    "9 | mitochondrial genetic code id | see gencode.dmp file\n",
    "10 | inherited MGC flag  (1 or 0) | 1 if node inherits mitochondrial gencode from parent\n",
    "11 | GenBank hidden flag (1 or 0) | 1 if name is suppressed in GenBank entry lineage\n",
    "12 | hidden subtree root flag (1 or 0) | 1 if this subtree has no sequence data yet\n",
    "13| comments | free-text comments and citations"
   ]
  },
  {
   "cell_type": "code",
   "execution_count": 38,
   "metadata": {},
   "outputs": [
    {
     "name": "stdout",
     "output_type": "stream",
     "text": [
      "(2248558, 13)\n"
     ]
    },
    {
     "data": {
      "text/html": [
       "<div>\n",
       "<style scoped>\n",
       "    .dataframe tbody tr th:only-of-type {\n",
       "        vertical-align: middle;\n",
       "    }\n",
       "\n",
       "    .dataframe tbody tr th {\n",
       "        vertical-align: top;\n",
       "    }\n",
       "\n",
       "    .dataframe thead th {\n",
       "        text-align: right;\n",
       "    }\n",
       "</style>\n",
       "<table border=\"1\" class=\"dataframe\">\n",
       "  <thead>\n",
       "    <tr style=\"text-align: right;\">\n",
       "      <th></th>\n",
       "      <th>tax_id</th>\n",
       "      <th>parent_tax_id</th>\n",
       "      <th>rank</th>\n",
       "      <th>embl_code</th>\n",
       "      <th>division_id</th>\n",
       "      <th>inherited_div_flag</th>\n",
       "      <th>genetic_code_id</th>\n",
       "      <th>inherited_GC_flag</th>\n",
       "      <th>mitochondrial_genetic_code_id</th>\n",
       "      <th>inherited_MGC_flag</th>\n",
       "      <th>GenBank_hidden_flag</th>\n",
       "      <th>hidden_subtree_root_flag</th>\n",
       "      <th>comments</th>\n",
       "    </tr>\n",
       "  </thead>\n",
       "  <tbody>\n",
       "    <tr>\n",
       "      <th>0</th>\n",
       "      <td>1</td>\n",
       "      <td>1</td>\n",
       "      <td>no rank</td>\n",
       "      <td></td>\n",
       "      <td>8</td>\n",
       "      <td>0</td>\n",
       "      <td>1</td>\n",
       "      <td>0</td>\n",
       "      <td>0</td>\n",
       "      <td>0</td>\n",
       "      <td>0</td>\n",
       "      <td>0</td>\n",
       "      <td></td>\n",
       "    </tr>\n",
       "    <tr>\n",
       "      <th>1</th>\n",
       "      <td>2</td>\n",
       "      <td>131567</td>\n",
       "      <td>superkingdom</td>\n",
       "      <td></td>\n",
       "      <td>0</td>\n",
       "      <td>0</td>\n",
       "      <td>11</td>\n",
       "      <td>0</td>\n",
       "      <td>0</td>\n",
       "      <td>0</td>\n",
       "      <td>0</td>\n",
       "      <td>0</td>\n",
       "      <td></td>\n",
       "    </tr>\n",
       "    <tr>\n",
       "      <th>2</th>\n",
       "      <td>6</td>\n",
       "      <td>335928</td>\n",
       "      <td>genus</td>\n",
       "      <td></td>\n",
       "      <td>0</td>\n",
       "      <td>1</td>\n",
       "      <td>11</td>\n",
       "      <td>1</td>\n",
       "      <td>0</td>\n",
       "      <td>1</td>\n",
       "      <td>0</td>\n",
       "      <td>0</td>\n",
       "      <td></td>\n",
       "    </tr>\n",
       "    <tr>\n",
       "      <th>3</th>\n",
       "      <td>7</td>\n",
       "      <td>6</td>\n",
       "      <td>species</td>\n",
       "      <td>AC</td>\n",
       "      <td>0</td>\n",
       "      <td>1</td>\n",
       "      <td>11</td>\n",
       "      <td>1</td>\n",
       "      <td>0</td>\n",
       "      <td>1</td>\n",
       "      <td>1</td>\n",
       "      <td>0</td>\n",
       "      <td></td>\n",
       "    </tr>\n",
       "    <tr>\n",
       "      <th>4</th>\n",
       "      <td>9</td>\n",
       "      <td>32199</td>\n",
       "      <td>species</td>\n",
       "      <td>BA</td>\n",
       "      <td>0</td>\n",
       "      <td>1</td>\n",
       "      <td>11</td>\n",
       "      <td>1</td>\n",
       "      <td>0</td>\n",
       "      <td>1</td>\n",
       "      <td>1</td>\n",
       "      <td>0</td>\n",
       "      <td></td>\n",
       "    </tr>\n",
       "  </tbody>\n",
       "</table>\n",
       "</div>"
      ],
      "text/plain": [
       "   tax_id  parent_tax_id          rank embl_code  division_id  \\\n",
       "0       1              1       no rank                      8   \n",
       "1       2         131567  superkingdom                      0   \n",
       "2       6         335928         genus                      0   \n",
       "3       7              6       species        AC            0   \n",
       "4       9          32199       species        BA            0   \n",
       "\n",
       "   inherited_div_flag  genetic_code_id  inherited_GC_flag  \\\n",
       "0                   0                1                  0   \n",
       "1                   0               11                  0   \n",
       "2                   1               11                  1   \n",
       "3                   1               11                  1   \n",
       "4                   1               11                  1   \n",
       "\n",
       "   mitochondrial_genetic_code_id  inherited_MGC_flag  GenBank_hidden_flag  \\\n",
       "0                              0                   0                    0   \n",
       "1                              0                   0                    0   \n",
       "2                              0                   1                    0   \n",
       "3                              0                   1                    1   \n",
       "4                              0                   1                    1   \n",
       "\n",
       "   hidden_subtree_root_flag comments  \n",
       "0                         0           \n",
       "1                         0           \n",
       "2                         0           \n",
       "3                         0           \n",
       "4                         0           "
      ]
     },
     "execution_count": 38,
     "metadata": {},
     "output_type": "execute_result"
    }
   ],
   "source": [
    "print(nodes.shape)\n",
    "nodes.head()"
   ]
  },
  {
   "cell_type": "code",
   "execution_count": 39,
   "metadata": {},
   "outputs": [
    {
     "data": {
      "text/plain": [
       "2248558"
      ]
     },
     "execution_count": 39,
     "metadata": {},
     "output_type": "execute_result"
    }
   ],
   "source": [
    "nodes.tax_id.nunique()  # Matches the number of rows --> each row is a unique node in the database"
   ]
  },
  {
   "cell_type": "code",
   "execution_count": 40,
   "metadata": {},
   "outputs": [
    {
     "data": {
      "text/plain": [
       "194258"
      ]
     },
     "execution_count": 40,
     "metadata": {},
     "output_type": "execute_result"
    }
   ],
   "source": [
    "nodes.parent_tax_id.nunique()  # Determines how these nodes are connected. Base node (tax_id) has no parent"
   ]
  },
  {
   "cell_type": "code",
   "execution_count": 41,
   "metadata": {},
   "outputs": [
    {
     "data": {
      "image/png": "[encoded data removed]",
      "text/plain": [
       "<Figure size 360x504 with 1 Axes>"
      ]
     },
     "metadata": {
      "needs_background": "light"
     },
     "output_type": "display_data"
    }
   ],
   "source": [
    "data = nodes['rank'].value_counts()\n",
    "plt.figure(figsize=(5, 7))\n",
    "plt.barh(y=data.index, width= data.values)\n",
    "plt.xscale('log')\n",
    "plt.title(\"rank\")\n",
    "plt.show()"
   ]
  },
  {
   "cell_type": "markdown",
   "metadata": {},
   "source": [
    "notes: There seems to be quite alot of 'no rank' labels"
   ]
  },
  {
   "cell_type": "markdown",
   "metadata": {},
   "source": [
    "### names.dmp file"
   ]
  },
  {
   "cell_type": "code",
   "execution_count": 42,
   "metadata": {},
   "outputs": [
    {
     "name": "stdout",
     "output_type": "stream",
     "text": [
      "(3206837, 4)\n"
     ]
    },
    {
     "data": {
      "text/html": [
       "<div>\n",
       "<style scoped>\n",
       "    .dataframe tbody tr th:only-of-type {\n",
       "        vertical-align: middle;\n",
       "    }\n",
       "\n",
       "    .dataframe tbody tr th {\n",
       "        vertical-align: top;\n",
       "    }\n",
       "\n",
       "    .dataframe thead th {\n",
       "        text-align: right;\n",
       "    }\n",
       "</style>\n",
       "<table border=\"1\" class=\"dataframe\">\n",
       "  <thead>\n",
       "    <tr style=\"text-align: right;\">\n",
       "      <th></th>\n",
       "      <th>tax_id</th>\n",
       "      <th>name_txt</th>\n",
       "      <th>unique_name</th>\n",
       "      <th>name_class</th>\n",
       "    </tr>\n",
       "  </thead>\n",
       "  <tbody>\n",
       "    <tr>\n",
       "      <th>0</th>\n",
       "      <td>1</td>\n",
       "      <td>all</td>\n",
       "      <td></td>\n",
       "      <td>synonym</td>\n",
       "    </tr>\n",
       "    <tr>\n",
       "      <th>1</th>\n",
       "      <td>1</td>\n",
       "      <td>root</td>\n",
       "      <td></td>\n",
       "      <td>scientific name</td>\n",
       "    </tr>\n",
       "    <tr>\n",
       "      <th>2</th>\n",
       "      <td>2</td>\n",
       "      <td>Bacteria</td>\n",
       "      <td>Bacteria &lt;bacteria&gt;</td>\n",
       "      <td>scientific name</td>\n",
       "    </tr>\n",
       "    <tr>\n",
       "      <th>3</th>\n",
       "      <td>2</td>\n",
       "      <td>Monera</td>\n",
       "      <td>Monera &lt;bacteria&gt;</td>\n",
       "      <td>in-part</td>\n",
       "    </tr>\n",
       "    <tr>\n",
       "      <th>4</th>\n",
       "      <td>2</td>\n",
       "      <td>Procaryotae</td>\n",
       "      <td>Procaryotae &lt;bacteria&gt;</td>\n",
       "      <td>in-part</td>\n",
       "    </tr>\n",
       "  </tbody>\n",
       "</table>\n",
       "</div>"
      ],
      "text/plain": [
       "   tax_id     name_txt             unique_name       name_class\n",
       "0       1          all                                  synonym\n",
       "1       1         root                          scientific name\n",
       "2       2     Bacteria     Bacteria <bacteria>  scientific name\n",
       "3       2       Monera       Monera <bacteria>          in-part\n",
       "4       2  Procaryotae  Procaryotae <bacteria>          in-part"
      ]
     },
     "execution_count": 42,
     "metadata": {},
     "output_type": "execute_result"
    }
   ],
   "source": [
    "print(names.shape)\n",
    "names.head()"
   ]
  },
  {
   "cell_type": "markdown",
   "metadata": {},
   "source": [
    "https://www.ncbi.nlm.nih.gov/pmc/articles/PMC3245000/\n",
    "- \"scientific name\" is the primary name for a node (default to using this)\n",
    "- Names are associated with nodes, and each taxid is linked to its parent taxid. The root node (taxid 1) links to itself."
   ]
  },
  {
   "cell_type": "code",
   "execution_count": 45,
   "metadata": {},
   "outputs": [],
   "source": [
    "names = names.loc[names['name_class'] == 'scientific name']"
   ]
  }
 ],
 "metadata": {
  "kernelspec": {
   "display_name": "Python 3",
   "language": "python",
   "name": "python3"
  },
  "language_info": {
   "codemirror_mode": {
    "name": "ipython",
    "version": 3
   },
   "file_extension": ".py",
   "mimetype": "text/x-python",
   "name": "python",
   "nbconvert_exporter": "python",
   "pygments_lexer": "ipython3",
   "version": "3.7.7"
  }
 },
 "nbformat": 4,
 "nbformat_minor": 4
}
